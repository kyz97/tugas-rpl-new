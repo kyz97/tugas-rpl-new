{
  "nbformat": 4,
  "nbformat_minor": 0,
  "metadata": {
    "colab": {
      "provenance": [],
      "authorship_tag": "ABX9TyP3qvosJbaGB+fH95j4agDT",
      "include_colab_link": true
    },
    "kernelspec": {
      "name": "python3",
      "display_name": "Python 3"
    },
    "language_info": {
      "name": "python"
    }
  },
  "cells": [
    {
      "cell_type": "markdown",
      "metadata": {
        "id": "view-in-github",
        "colab_type": "text"
      },
      "source": [
        "<a href=\"https://colab.research.google.com/github/kyz97/tugas-rpl-new/blob/main/variabel.ipynb\" target=\"_parent\"><img src=\"https://colab.research.google.com/assets/colab-badge.svg\" alt=\"Open In Colab\"/></a>"
      ]
    },
    {
      "cell_type": "code",
      "execution_count": 1,
      "metadata": {
        "colab": {
          "base_uri": "https://localhost:8080/"
        },
        "id": "jvc3DbYdOIC7",
        "outputId": "f852afb4-180c-4f18-a207-45f0c562f7b1"
      },
      "outputs": [
        {
          "output_type": "stream",
          "name": "stdout",
          "text": [
            "9\n",
            "kyz\n"
          ]
        }
      ],
      "source": [
        "#contoh variable\n",
        "\n",
        "x = 9 # x bertipe int\n",
        "y = \"kyz\" # x sekarang bertipe str\n",
        "print(x)\n",
        "print(y)"
      ]
    },
    {
      "cell_type": "code",
      "source": [
        "x = str(99)\n",
        "y = int(988)\n",
        "z = float(65)\n",
        "print(x)\n",
        "print(y)\n",
        "print(z)"
      ],
      "metadata": {
        "colab": {
          "base_uri": "https://localhost:8080/"
        },
        "id": "uQEJ3YQYOR7a",
        "outputId": "63de4559-ed3a-401d-93f6-1fe225d3d17a"
      },
      "execution_count": 2,
      "outputs": [
        {
          "output_type": "stream",
          "name": "stdout",
          "text": [
            "99\n",
            "988\n",
            "65.0\n"
          ]
        }
      ]
    },
    {
      "cell_type": "code",
      "source": [
        "x = \"iky\"\n",
        "y = 'anak baik'\n",
        "print(x)\n",
        "print(y)"
      ],
      "metadata": {
        "colab": {
          "base_uri": "https://localhost:8080/"
        },
        "id": "dRsmycjrOWYy",
        "outputId": "c66fc1d5-cd3b-48e1-d1b2-84467a8834dd"
      },
      "execution_count": 3,
      "outputs": [
        {
          "output_type": "stream",
          "name": "stdout",
          "text": [
            "iky\n",
            "anak baik\n"
          ]
        }
      ]
    },
    {
      "cell_type": "code",
      "source": [
        "#program studi kasus kecocokan berteman\n",
        "\n",
        "a = input (\"masukan nama teman pertama :\")\n",
        "b = input (\"masukan nama teman kedua :\")\n",
        "\n",
        "print (\"berdasarkan hasil survei :\" ,a ,\" dan \" ,b ,\" adalah teman yang cocok\")"
      ],
      "metadata": {
        "colab": {
          "base_uri": "https://localhost:8080/"
        },
        "id": "aDzkAfT4Obba",
        "outputId": "2e971fbc-88fa-4e4c-bf93-27928b8e9444"
      },
      "execution_count": 4,
      "outputs": [
        {
          "output_type": "stream",
          "name": "stdout",
          "text": [
            "masukan nama teman pertama :gopal\n",
            "masukan nama teman kedua :rizq\n",
            "berdasarkan hasil survei : gopal  dan  rizq  adalah teman yang cocok\n"
          ]
        }
      ]
    },
    {
      "cell_type": "code",
      "source": [
        "#studi kasus aplikasi horoscrop\n",
        "\n",
        "a = input (\"masukan pasangan 1 : \")\n",
        "b = input (\"masukan pasangan 2 : \")\n",
        "\n",
        "print (\" hasil survei antara pasangan\", a,  \"dan pasangan\", b, \"adalah pasangan yang cocok\")"
      ],
      "metadata": {
        "colab": {
          "base_uri": "https://localhost:8080/"
        },
        "id": "6KpHIt4aOlzK",
        "outputId": "e6aba7e9-3101-4502-8066-6702ab6f4625"
      },
      "execution_count": 5,
      "outputs": [
        {
          "output_type": "stream",
          "name": "stdout",
          "text": [
            "masukan pasangan 1 : ky\n",
            "masukan pasangan 2 : jara\n",
            " hasil survei antara pasangan ky dan pasangan jara adalah pasangan yang cocok\n"
          ]
        }
      ]
    },
    {
      "cell_type": "code",
      "source": [
        "#studi kasus pembagian gaji untuk dua orang karyawan di akhir bulan\n",
        "a = 760\n",
        "b = input (\"masukan nama teman pertama :\")\n",
        "c = input (\"masukan nama teman kedua :\")\n",
        "d = int(a) / 2\n",
        "print (b,\"mendapatkan gaji sebanyak\", d, \"buah. Dan si\", c,\"mendapatkan gaji sebanyak\", d)"
      ],
      "metadata": {
        "colab": {
          "base_uri": "https://localhost:8080/"
        },
        "id": "s6fqdM81O7mP",
        "outputId": "99d8e2e8-2cac-4344-9298-0583586d55e1"
      },
      "execution_count": 7,
      "outputs": [
        {
          "output_type": "stream",
          "name": "stdout",
          "text": [
            "masukan nama teman pertama :om anto\n",
            "masukan nama teman kedua :nenek\n",
            "om anto mendapatkan gaji sebanyak 380.0 buah. Dan si nenek mendapatkan gaji sebanyak 380.0\n"
          ]
        }
      ]
    }
  ]
}