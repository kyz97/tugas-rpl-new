{
  "nbformat": 4,
  "nbformat_minor": 0,
  "metadata": {
    "colab": {
      "provenance": [],
      "authorship_tag": "ABX9TyMWJbiUsmxhnQUaqQinUHqw",
      "include_colab_link": true
    },
    "kernelspec": {
      "name": "python3",
      "display_name": "Python 3"
    },
    "language_info": {
      "name": "python"
    }
  },
  "cells": [
    {
      "cell_type": "markdown",
      "metadata": {
        "id": "view-in-github",
        "colab_type": "text"
      },
      "source": [
        "<a href=\"https://colab.research.google.com/github/kyz97/tugas-rpl-new/blob/main/percabangan2.ipynb\" target=\"_parent\"><img src=\"https://colab.research.google.com/assets/colab-badge.svg\" alt=\"Open In Colab\"/></a>"
      ]
    },
    {
      "cell_type": "markdown",
      "source": [
        "# **Percabangan**\n",
        "\n",
        "Percabangan adalah struktur dalam pemrograman yang memungkinkan program untuk membuat keputusan berdasarkan kondisi tertentu.\n",
        "\n",
        "# **IF**\n",
        "\n",
        "if adalah sebuah pernyataan dalam pemrograman yang digunakan untuk mengevaluasi suatu kondisi. Jika kondisi tersebut benar (true), maka blok kode yang terkait dengan if akan dijalankan.\n",
        "\n",
        "# **Elif**\n",
        "elif adalah singkatan dari \"else if\" dan digunakan dalam pemrograman untuk memberikan alternatif tambahan dalam struktur percabangan.\n",
        "# **Else**\n",
        "else adalah bagian dari struktur percabangan dalam pemrograman yang digunakan untuk menentukan aksi yang harus dilakukan jika semua kondisi sebelumnya (seperti yang ada di pernyataan if dan elif) tidak terpenuhi"
      ],
      "metadata": {
        "id": "q4QjY89ETvBK"
      }
    },
    {
      "cell_type": "code",
      "source": [
        "#Contoh percabangan 1 kondisi\n",
        "\n",
        "umur = int(input(\"masukan umur: \"))\n",
        "if umur > 9:\n",
        "   print(\"masi muda\") #true"
      ],
      "metadata": {
        "colab": {
          "base_uri": "https://localhost:8080/"
        },
        "id": "72tfn8ep6310",
        "outputId": "caf2e876-e32c-45b9-84a1-47c0c20f5de3"
      },
      "execution_count": null,
      "outputs": [
        {
          "output_type": "stream",
          "name": "stdout",
          "text": [
            "masukan umur: 17\n",
            "masi muda\n"
          ]
        }
      ]
    },
    {
      "cell_type": "code",
      "source": [
        "#Contoh percabangan 2 kondisi\n",
        "\n",
        "teman1 = 'imam'\n",
        "teman2 = 'dapa'\n",
        "\n",
        "if teman1 != teman2:\n",
        "    print(\"teman yang baik\") #true\n",
        "else:\n",
        "    print(\"teman yang jahat\") #false"
      ],
      "metadata": {
        "colab": {
          "base_uri": "https://localhost:8080/"
        },
        "id": "4CxTf16WUIkU",
        "outputId": "cbe515fa-aad6-4cf0-c6e0-1050d02cc56c"
      },
      "execution_count": null,
      "outputs": [
        {
          "output_type": "stream",
          "name": "stdout",
          "text": [
            "teman yang baik\n"
          ]
        }
      ]
    },
    {
      "cell_type": "code",
      "source": [
        "#Contoh percabangan 3 kondisi\n",
        "\n",
        "umur = int(input(\"Silahkan masukan umur anda: \"))\n",
        "if umur <= 10:\n",
        "   print(\"anda masi anak anak\") #true\n",
        "elif umur <= 18:\n",
        "   print(\"anda masih remaja\") #true&false\n",
        "else:\n",
        "   print(\"anda sudah dewasa\") #false"
      ],
      "metadata": {
        "colab": {
          "base_uri": "https://localhost:8080/"
        },
        "id": "Sb6vX_GnVtx0",
        "outputId": "6ae4a409-1863-41ce-e922-713a1e9aa40f"
      },
      "execution_count": null,
      "outputs": [
        {
          "output_type": "stream",
          "name": "stdout",
          "text": [
            "Silahkan masukan umur anda: 20\n",
            "anda sudah dewasa\n"
          ]
        }
      ]
    },
    {
      "cell_type": "code",
      "source": [
        "#Contoh percabangan 4 kondisi\n",
        "\n",
        "nilai = 100\n",
        "\n",
        "if nilai >= 90:\n",
        "    print(\"Predikat: A (sangat baik)\") #true\n",
        "elif nilai >= 75:\n",
        "    print(\"Predikat: B (baik)\") #true&false\n",
        "elif nilai >= 60:\n",
        "    print(\"Predikat: C (cukup)\") #true false\n",
        "else:\n",
        "    print(\"Predikat: D (tidak lulus)\") #false"
      ],
      "metadata": {
        "colab": {
          "base_uri": "https://localhost:8080/"
        },
        "id": "P0gTXvGUXSMm",
        "outputId": "a487e0d4-2e53-4dcd-ec84-a20878d39b51"
      },
      "execution_count": null,
      "outputs": [
        {
          "output_type": "stream",
          "name": "stdout",
          "text": [
            "Predikat: A (sangat baik)\n"
          ]
        }
      ]
    },
    {
      "cell_type": "code",
      "source": [
        "#Contoh percabangan 5 kondisi\n",
        "suhu = int(input(\"suhu cuaca saat ini: \"))\n",
        "if suhu >= 40:\n",
        "    print(\"sangat panas\") #true\n",
        "elif suhu >= 30:\n",
        "    print(\"panas\") #true&false\n",
        "elif suhu >= 20:\n",
        "    print(\"hangat\") #true&false\n",
        "elif suhu >= 10:\n",
        "    print(\"sejuk\") #true&false\n",
        "else:\n",
        "    print(\"dingin\") #false"
      ],
      "metadata": {
        "colab": {
          "base_uri": "https://localhost:8080/"
        },
        "id": "0MUKdOv9YzDH",
        "outputId": "82d691d3-9c96-4842-c20b-f77081b8de8f"
      },
      "execution_count": null,
      "outputs": [
        {
          "output_type": "stream",
          "name": "stdout",
          "text": [
            "suhu cuaca saat ini: 33\n",
            "panas\n"
          ]
        }
      ]
    },
    {
      "cell_type": "code",
      "source": [
        "#Contoh percabangan 6 kondisi\n",
        "\n",
        "tingkat_polusi_jakarta= 177\n",
        "\n",
        "if tingkat_polusi <= 50:\n",
        "    print(\"Baik\") #true\n",
        "elif tingkat_polusi <= 100:\n",
        "    print(\"Sedang\") #true&false\n",
        "elif tingkat_polusi <= 150:\n",
        "    print(\"Tidak Sehat bagi Kelompok Sensitif\") #true&false\n",
        "elif tingkat_polusi <= 200:\n",
        "    print(\"Tidak Sehat\") #true&false\n",
        "elif tingkat_polusi <= 300:\n",
        "    print(\"Sangat Tidak Sehat\") #false\n",
        "else:\n",
        "    print(\"Berbahaya\")"
      ],
      "metadata": {
        "colab": {
          "base_uri": "https://localhost:8080/"
        },
        "id": "RZiFqS9cawtY",
        "outputId": "a6521c12-3371-40dc-e559-c6a302f350bf"
      },
      "execution_count": null,
      "outputs": [
        {
          "output_type": "stream",
          "name": "stdout",
          "text": [
            "Tidak Sehat bagi Kelompok Sensitif\n"
          ]
        }
      ]
    },
    {
      "cell_type": "code",
      "source": [
        "#Contoh percabangan 7 kondisi\n",
        "\n",
        "hari = str(input(\"hari apa sekarang?: \"))\n",
        "if hari == \"senin waktunya\":\n",
        "    print(\"jadwal: pagi workout, siang sekolah.\")\n",
        "elif hari == \"selasa waktunya\":\n",
        "    print(\"jadwal: pagi jogging, siang sekolah, malam badmintoon.\")\n",
        "elif hari == \"rabu waktunya\":\n",
        "    print(\"jadwal: pagi beberes, siang sekolah (bawa laptop).\")\n",
        "elif hari == \"kamis waktunya\":\n",
        "    print(\"jadwal: pagi workout, siang sekolah (praktek ipas).\")\n",
        "elif hari == \"jumat waktunya\":\n",
        "    print(\"jadwal: pagi ngerjain kerjaan, siang sekolah, sore-malam taekwondo.\")\n",
        "elif hari == \"sabtu waktunya\":\n",
        "    print(\"jadwal: pagi bersihin ikan, siang sekolah, malem main.\")\n",
        "else:\n",
        "    print(\"minggu libur lah istirahat cape\")"
      ],
      "metadata": {
        "colab": {
          "base_uri": "https://localhost:8080/"
        },
        "id": "v9nCnqKwcG8t",
        "outputId": "a736e1ce-c6bf-4653-88b8-d786de605a39"
      },
      "execution_count": 1,
      "outputs": [
        {
          "output_type": "stream",
          "name": "stdout",
          "text": [
            "hari apa sekarang?: minggu waktunya?\n",
            "minggu libur lah istirahat cape\n"
          ]
        }
      ]
    }
  ]
}