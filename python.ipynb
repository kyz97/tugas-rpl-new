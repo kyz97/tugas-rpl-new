{
  "nbformat": 4,
  "nbformat_minor": 0,
  "metadata": {
    "colab": {
      "provenance": [],
      "authorship_tag": "ABX9TyN6AF3UkPFYb++URotOhfQW",
      "include_colab_link": true
    },
    "kernelspec": {
      "name": "python3",
      "display_name": "Python 3"
    },
    "language_info": {
      "name": "python"
    }
  },
  "cells": [
    {
      "cell_type": "markdown",
      "metadata": {
        "id": "view-in-github",
        "colab_type": "text"
      },
      "source": [
        "<a href=\"https://colab.research.google.com/github/kyz97/tugas-rpl-new/blob/main/python.ipynb\" target=\"_parent\"><img src=\"https://colab.research.google.com/assets/colab-badge.svg\" alt=\"Open In Colab\"/></a>"
      ]
    },
    {
      "cell_type": "markdown",
      "source": [
        "# **Variabel python**\n",
        "\n",
        "1.int = untuk mendeklarasikan angka 0-9\n",
        "\n",
        "2.string = untuk mendeklarasikan huruf a-z dan karakter\n",
        "\n",
        "3.float = untuk mendeklarasikan desimal (1,2 1,5)"
      ],
      "metadata": {
        "id": "ax43Mrz7IEWK"
      }
    },
    {
      "cell_type": "code",
      "source": [
        "#contoh 1\n",
        "a = 11      # a merupakan variable dan 11 merupakan value\n",
        "b = 10       # b merupakan variable dan 10 merupakan value\n",
        "c = a + b   # untuk menghitung hasi dari penjumlahan 11 + 10\n",
        "print(c)\n",
        "\n",
        "#contoh 2\n",
        "a = \"iky\" # a merupakan variable dan iky merupakan value\n",
        "b = \"kece\" # b merupakan variable dan kece merupakan value\n",
        "c = a + b   # untuk menghitung hasil dari penjumlahan \"iky\" + \"kece\" Dengan adanya tanda kutib berarti value dianggap sebagai string atau huruf\n",
        "print(c)\n",
        "\n",
        "#contoh 3\n",
        "a =7.5     # a merupakan variable dan 7.5 merupakan value\n",
        "b =3.4     # b merupakan variable dan 3.4 merupakan value\n",
        "c = a + b   # untuk menghitung hasil dari penjumlahan 7.5 + 3.4 Dengan adanya koma/titik maka value dianggap sebagai float\n",
        "print(c)\n"
      ],
      "metadata": {
        "colab": {
          "base_uri": "https://localhost:8080/"
        },
        "id": "Fva-pivPISHV",
        "outputId": "2fe3b344-dd54-4a72-9279-244aca4b4da9"
      },
      "execution_count": null,
      "outputs": [
        {
          "output_type": "stream",
          "name": "stdout",
          "text": [
            "21\n",
            "ikykece\n",
            "10.9\n"
          ]
        }
      ]
    },
    {
      "cell_type": "markdown",
      "source": [
        "# **Operator artimatika**\n",
        "1.penjumlahan = +\n",
        "\n",
        "2.pengurangan = -\n",
        "\n",
        "3.perkalian = *\n",
        "\n",
        "4.pembagian = /\n",
        "\n",
        "5.perpangkatan = ^\n",
        "\n",
        "6.modulus ( persen ) = %"
      ],
      "metadata": {
        "id": "cSFId2nyIzOX"
      }
    },
    {
      "cell_type": "code",
      "source": [
        "# contoh penjumlahan (+)\n",
        "a = 3\n",
        "b = 9\n",
        "c = a + b   # untuk menghitung penjumlahan dari 3 + 9\n",
        "print(c)\n",
        "\n",
        "# contoh pengurangan (-)\n",
        "a = 3\n",
        "b = 9\n",
        "c = a - b   # untuk menghitung pengurangan dari 3 - 9\n",
        "print(c)\n",
        "\n",
        "# contoh perkalian (*)\n",
        "a = 3\n",
        "b = 9\n",
        "c = a * b   # untuk menghitung perkalian dari 3 x 9\n",
        "print(c)\n",
        "\n",
        "# contoh pembagian (/)\n",
        "a = 9\n",
        "b = 3\n",
        "c = a / b   # untuk menghitung pembagian dari 9 : 3\n",
        "print(c)\n",
        "\n",
        "#contoh perpangkatan (**)\n",
        "a = 3\n",
        "b = 2\n",
        "c = a ** b  # untuk menghitung perpangkatan dari 3 pangkat 2  *penggunaan (^) tidak bisa diartikan, jadi diganti dengan (**)\n",
        "print(c)\n",
        "\n",
        "# contoh modulus (%)\n",
        "a = 3\n",
        "b = 9\n",
        "c = a % b   # untuk menghitung persen dari 3 % 9\n",
        "print(c)\n"
      ],
      "metadata": {
        "colab": {
          "base_uri": "https://localhost:8080/"
        },
        "id": "6UD8NKksJDKi",
        "outputId": "07b4305e-a831-44bd-e90d-f4f8f77a07f3"
      },
      "execution_count": null,
      "outputs": [
        {
          "output_type": "stream",
          "name": "stdout",
          "text": [
            "12\n",
            "-6\n",
            "27\n",
            "3.0\n",
            "9\n",
            "3\n"
          ]
        }
      ]
    },
    {
      "cell_type": "markdown",
      "source": [
        "# **Operator perbandingan**\n",
        "1.lebih besar : > ( >70 = 71-100 )\n",
        "\n",
        "2.lebih kecil : < ( <70 = 69-100 )\n",
        "\n",
        "3.lebih besar = : >= ( >=70 = 70-100 )\n",
        "\n",
        "4.lebih kecil = : <= ( <=70 = 70-0 )\n",
        "\n",
        "5.tidak sama dengan : != ( jelek != ganteng )\n",
        "\n",
        "6.sama dengan sama : == ( ganteng == ganteng ) jika jawabannya benar maka akan tertampil \" True \" maka jika salah maka akan tampil \" False"
      ],
      "metadata": {
        "id": "wY4FxG5kJYrf"
      }
    },
    {
      "cell_type": "code",
      "source": [
        "# lebih besar >\n",
        "a = 98\n",
        "b = 70\n",
        "c = a > b    # untuk mencari siapa yang terbesar\n",
        "print(c)\n",
        "\n",
        "# lebih kecil <\n",
        "a = 76\n",
        "b = 90\n",
        "c = a < b    # untuk mencari siapa yang terkecil\n",
        "print(c)\n",
        "\n",
        "# lebih besar sama dengan >=\n",
        "a = 88\n",
        "b = 65\n",
        "c = a >= b   # untuk mencari siapa yang terbesar sama dengan\n",
        "print(c)\n",
        "\n",
        "# lebih kecil sama dengan <=\n",
        "a = 32\n",
        "b = 100\n",
        "c = a <= b  # untuk mencari siapa yang terkecil sama dengan\n",
        "print(c)\n",
        "\n",
        "# tidak sama dengan !=\n",
        "a = \"hotwheels\"\n",
        "b = \"tomica\"\n",
        "c = a !=  b # untuk mencari siapa yang tidak sama dengan\n",
        "print(c)\n",
        "\n",
        "# sama dengan ==\n",
        "a = \"kece\"\n",
        "b = \"kece\"\n",
        "c = a == b  # untuk mencari siapa yang sama dengan\n",
        "print(c)"
      ],
      "metadata": {
        "colab": {
          "base_uri": "https://localhost:8080/"
        },
        "id": "mTu6DQSgJhF0",
        "outputId": "ffebf638-eefe-433d-af36-7d9872081d49"
      },
      "execution_count": null,
      "outputs": [
        {
          "output_type": "stream",
          "name": "stdout",
          "text": [
            "True\n",
            "True\n",
            "True\n",
            "True\n",
            "True\n",
            "True\n"
          ]
        }
      ]
    }
  ]
}