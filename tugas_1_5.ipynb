{
  "nbformat": 4,
  "nbformat_minor": 0,
  "metadata": {
    "colab": {
      "provenance": [],
      "authorship_tag": "ABX9TyMD3iw06i4GY2QYbQuWwXkk",
      "include_colab_link": true
    },
    "kernelspec": {
      "name": "python3",
      "display_name": "Python 3"
    },
    "language_info": {
      "name": "python"
    }
  },
  "cells": [
    {
      "cell_type": "markdown",
      "metadata": {
        "id": "view-in-github",
        "colab_type": "text"
      },
      "source": [
        "<a href=\"https://colab.research.google.com/github/kyz97/tugas-rpl-new/blob/main/tugas_1_5.ipynb\" target=\"_parent\"><img src=\"https://colab.research.google.com/assets/colab-badge.svg\" alt=\"Open In Colab\"/></a>"
      ]
    },
    {
      "cell_type": "markdown",
      "source": [
        "## **Soal 1**: Penentuan Diskon Berdasarkan Jumlah Pembelian\n",
        "\n",
        "# **Deskripsi:**\n",
        "Sebuah toko memberikan diskon kepada pelanggan berdasarkan jumlah pembelian mereka. Aturan diskon adalah sebagai berikut:\n",
        "\n",
        "Pembelian di bawah Rp100.000 tidak mendapat diskon.\n",
        "\n",
        "Pembelian antara Rp100.000 - Rp500.000 mendapat diskon 10%.\n",
        "\n",
        "Pembelian di atas Rp500.000 mendapat diskon 20%.\n",
        "\n"
      ],
      "metadata": {
        "id": "ZZIGhY-whpFw"
      }
    },
    {
      "cell_type": "code",
      "source": [
        "#soal 1\n",
        "\n",
        "total = float(input(\"masukan jumlah pembelian : Rp\"))\n",
        "if total >= 100000 and total <=500000 :\n",
        "  print(\"anda mendapatkan diskon 10% \")\n",
        "elif total >= 500000 :\n",
        "    print(\"anda mendapatkan diskon 20%\")\n",
        "else :\n",
        "      print (\"anda tidak mendapatkan diskon\")"
      ],
      "metadata": {
        "colab": {
          "base_uri": "https://localhost:8080/"
        },
        "id": "tlPm5JxjiGRo",
        "outputId": "6d92ac75-e420-4df5-d827-52621ab0d87e"
      },
      "execution_count": 29,
      "outputs": [
        {
          "output_type": "stream",
          "name": "stdout",
          "text": [
            "masukan jumlah pembelian : Rp5000\n",
            "anda tidak mendapatkan diskon\n"
          ]
        }
      ]
    },
    {
      "cell_type": "markdown",
      "source": [
        "# **Soal 2**: Klasifikasi Umur\n",
        "\n",
        "# **Deskripsi:**\n",
        "Anda diminta membuat program untuk mengelompokkan seseorang berdasarkan umur. Aturannya:\n",
        "\n",
        "Umur 0-12 tahun: Anak-anak\n",
        "\n",
        "Umur 13-17 tahun: Remaja\n",
        "\n",
        "Umur 18-64 tahun: Dewasa\n",
        "\n",
        "Umur 65 tahun ke atas: Lansia\n"
      ],
      "metadata": {
        "id": "qkqBJNpJoJsz"
      }
    },
    {
      "cell_type": "code",
      "source": [
        "#soal 2\n",
        "\n",
        "umur = int(input(\"Silahkan masukan umur anda: \"))\n",
        "if umur <= 12:\n",
        "   print(\"anak anak\")\n",
        "elif umur <= 17:\n",
        "   print(\"remaja\")\n",
        "elif umur <= 64:\n",
        "  print(\"dewasa\")\n",
        "else:\n",
        "   print(\"lansia\")\n",
        "\n",
        ""
      ],
      "metadata": {
        "colab": {
          "base_uri": "https://localhost:8080/"
        },
        "id": "IMAGfe_3odEU",
        "outputId": "2237b603-b902-4de0-890b-a2015bdce977"
      },
      "execution_count": 20,
      "outputs": [
        {
          "output_type": "stream",
          "name": "stdout",
          "text": [
            "Silahkan masukan umur anda: 2\n",
            "anak anak\n"
          ]
        }
      ]
    },
    {
      "cell_type": "markdown",
      "source": [
        "# **Soal 3:** Penilaian Nilai Siswa\n",
        "#**Deskripsi:**\n",
        "Sebuah sekolah memiliki standar penilaian sebagai berikut:\n",
        "\n",
        "Nilai 90-100: Sangat Baik\n",
        "\n",
        "Nilai 70-89: Baik\n",
        "\n",
        "Nilai 50-69: Cukup\n",
        "\n",
        "Nilai di bawah 50: Kurang\n"
      ],
      "metadata": {
        "id": "MVA3ZPrZp4s8"
      }
    },
    {
      "cell_type": "code",
      "source": [
        "#soal 3\n",
        "\n",
        "nilai =int(input(\"masukan nilai :\"))\n",
        "if nilai >= 90 and nilai <= 100:\n",
        "    print(\"sangat baik\")\n",
        "elif nilai >= 70 and nilai <= 89:\n",
        "    print(\"baik\")\n",
        "elif nilai >= 50 and nilai <= 69:\n",
        "    print(\"cukup\")\n",
        "else:\n",
        "    print(\"kurang\")"
      ],
      "metadata": {
        "colab": {
          "base_uri": "https://localhost:8080/"
        },
        "id": "fhfVdHHUqKGH",
        "outputId": "f80adef8-2ff2-4575-d887-f28a3f7994d3"
      },
      "execution_count": 30,
      "outputs": [
        {
          "output_type": "stream",
          "name": "stdout",
          "text": [
            "masukan nilai :40\n",
            "kurang\n"
          ]
        }
      ]
    },
    {
      "cell_type": "markdown",
      "source": [
        "#**Soal 4:** Pengecekan Tahun Kabisat\n",
        "#**Deskripsi:**\n",
        "Anda diminta membuat program untuk menentukan apakah suatu tahun merupakan tahun kabisat. Aturannya:\n",
        "\n",
        "Tahun habis dibagi 4 adalah kabisat, kecuali tahun yang habis dibagi 100 tetapi tidak habis dibagi 400.\n"
      ],
      "metadata": {
        "id": "-aHaN6eFsF2y"
      }
    },
    {
      "cell_type": "code",
      "source": [
        "#soal 4\n",
        "\n",
        "tahun = int(input(\"silahkan masukan tahun :\"))\n",
        "if tahun % 4 == 0 :\n",
        "  if tahun % 100 == 0 :\n",
        "    if tahun % 400 == 0 :\n",
        "      print(\"tahun kabisat\")\n",
        "    else:\n",
        "       print(\"tahun kabisat\")"
      ],
      "metadata": {
        "colab": {
          "base_uri": "https://localhost:8080/"
        },
        "id": "8JJ4u3Kksmsu",
        "outputId": "8891666a-2233-4d9f-d293-228082f74b83"
      },
      "execution_count": 55,
      "outputs": [
        {
          "output_type": "stream",
          "name": "stdout",
          "text": [
            "silahkan masukan tahun :2000\n",
            "tahun kabisat\n"
          ]
        }
      ]
    },
    {
      "cell_type": "markdown",
      "source": [
        "#**soal 5:** Kalkulator Sederhana\n",
        "#**Deskripsi:**\n",
        "Buat kalkulator sederhana yang dapat melakukan operasi tambah, kurang, kali, dan bagi. Program akan meminta pengguna memasukkan dua angka dan memilih operasi.\n",
        "\n"
      ],
      "metadata": {
        "id": "SRDrL_jMv6K7"
      }
    },
    {
      "cell_type": "code",
      "source": [
        "# soal 5\n",
        "\n",
        "a = int(input(\"Masukkan angka pertama: \"))\n",
        "b = int(input(\"Masukkan angka kedua: \"))\n",
        "c = input(\"Masukkan operasi: \")\n",
        "if c == \"+\":\n",
        "  print(a+b)\n",
        "elif c == \"-\":\n",
        "  print(a-b)\n",
        "elif c == \"*\":\n",
        "  print(a*b)\n"
      ],
      "metadata": {
        "colab": {
          "base_uri": "https://localhost:8080/"
        },
        "id": "fMPAgTVjwM6Z",
        "outputId": "75b9ac20-fd7b-4bac-822c-ab99c8400826"
      },
      "execution_count": 58,
      "outputs": [
        {
          "output_type": "stream",
          "name": "stdout",
          "text": [
            "Masukkan angka pertama: 20\n",
            "Masukkan angka kedua: 70\n",
            "Masukkan operasi: +\n",
            "90\n"
          ]
        }
      ]
    }
  ]
}